{
  "nbformat": 4,
  "nbformat_minor": 0,
  "metadata": {
    "colab": {
      "provenance": [],
      "mount_file_id": "1_18TfwYoMRhAb9rWvRjnGL1qwuPT4H7R",
      "authorship_tag": "ABX9TyMWT/1O/VzNB6VaM2f0mzuQ",
      "include_colab_link": true
    },
    "kernelspec": {
      "name": "python3",
      "display_name": "Python 3"
    },
    "language_info": {
      "name": "python"
    }
  },
  "cells": [
    {
      "cell_type": "markdown",
      "metadata": {
        "id": "view-in-github",
        "colab_type": "text"
      },
      "source": [
        "<a href=\"https://colab.research.google.com/github/easy-min/cupid/blob/main/NLP_%ED%99%95%EC%A0%95.ipynb\" target=\"_parent\"><img src=\"https://colab.research.google.com/assets/colab-badge.svg\" alt=\"Open In Colab\"/></a>"
      ]
    },
    {
      "cell_type": "markdown",
      "source": [
        "Konlp 기능\n",
        "\n",
        "- nouns : 명사 추출\n",
        "\n",
        "- morphs : 형태소 추출\n",
        "\n",
        "- pos : 품사 부착"
      ],
      "metadata": {
        "id": "IJ6PrQGmvfJk"
      }
    },
    {
      "cell_type": "markdown",
      "source": [
        "# [1] 패키지 import"
      ],
      "metadata": {
        "id": "yMtqt-ZP2hWZ"
      }
    },
    {
      "cell_type": "code",
      "source": [
        "!pip install customized_konlpy # 사용자 사전 추가가 쉬운 customized_konlp 설치"
      ],
      "metadata": {
        "colab": {
          "base_uri": "https://localhost:8080/"
        },
        "id": "LlKzGMrvySDi",
        "outputId": "299254ee-9a47-4592-8ef3-53abf9be7d13"
      },
      "execution_count": 1,
      "outputs": [
        {
          "output_type": "stream",
          "name": "stdout",
          "text": [
            "Collecting customized_konlpy\n",
            "  Downloading customized_konlpy-0.0.64-py3-none-any.whl (881 kB)\n",
            "\u001b[2K     \u001b[90m━━━━━━━━━━━━━━━━━━━━━━━━━━━━━━━━━━━━━━\u001b[0m \u001b[32m881.5/881.5 kB\u001b[0m \u001b[31m10.4 MB/s\u001b[0m eta \u001b[36m0:00:00\u001b[0m\n",
            "\u001b[?25hCollecting Jpype1>=0.6.1 (from customized_konlpy)\n",
            "  Downloading JPype1-1.4.1-cp310-cp310-manylinux_2_12_x86_64.manylinux2010_x86_64.whl (465 kB)\n",
            "\u001b[2K     \u001b[90m━━━━━━━━━━━━━━━━━━━━━━━━━━━━━━━━━━━━━━\u001b[0m \u001b[32m465.3/465.3 kB\u001b[0m \u001b[31m38.8 MB/s\u001b[0m eta \u001b[36m0:00:00\u001b[0m\n",
            "\u001b[?25hCollecting konlpy>=0.4.4 (from customized_konlpy)\n",
            "  Downloading konlpy-0.6.0-py2.py3-none-any.whl (19.4 MB)\n",
            "\u001b[2K     \u001b[90m━━━━━━━━━━━━━━━━━━━━━━━━━━━━━━━━━━━━━━━━\u001b[0m \u001b[32m19.4/19.4 MB\u001b[0m \u001b[31m69.7 MB/s\u001b[0m eta \u001b[36m0:00:00\u001b[0m\n",
            "\u001b[?25hRequirement already satisfied: packaging in /usr/local/lib/python3.10/dist-packages (from Jpype1>=0.6.1->customized_konlpy) (23.1)\n",
            "Requirement already satisfied: lxml>=4.1.0 in /usr/local/lib/python3.10/dist-packages (from konlpy>=0.4.4->customized_konlpy) (4.9.3)\n",
            "Requirement already satisfied: numpy>=1.6 in /usr/local/lib/python3.10/dist-packages (from konlpy>=0.4.4->customized_konlpy) (1.23.5)\n",
            "Installing collected packages: Jpype1, konlpy, customized_konlpy\n",
            "Successfully installed Jpype1-1.4.1 customized_konlpy-0.0.64 konlpy-0.6.0\n"
          ]
        }
      ]
    },
    {
      "cell_type": "code",
      "source": [
        "!pip install konlpy # 대중적으로 사용되는 python koNLP를 설치"
      ],
      "metadata": {
        "colab": {
          "base_uri": "https://localhost:8080/"
        },
        "id": "lS3CHixKUYYr",
        "outputId": "cada3fdd-657e-4588-c155-4a70e1a16d74"
      },
      "execution_count": 2,
      "outputs": [
        {
          "output_type": "stream",
          "name": "stdout",
          "text": [
            "Requirement already satisfied: konlpy in /usr/local/lib/python3.10/dist-packages (0.6.0)\n",
            "Requirement already satisfied: JPype1>=0.7.0 in /usr/local/lib/python3.10/dist-packages (from konlpy) (1.4.1)\n",
            "Requirement already satisfied: lxml>=4.1.0 in /usr/local/lib/python3.10/dist-packages (from konlpy) (4.9.3)\n",
            "Requirement already satisfied: numpy>=1.6 in /usr/local/lib/python3.10/dist-packages (from konlpy) (1.23.5)\n",
            "Requirement already satisfied: packaging in /usr/local/lib/python3.10/dist-packages (from JPype1>=0.7.0->konlpy) (23.1)\n"
          ]
        }
      ]
    },
    {
      "cell_type": "code",
      "source": [
        "from konlpy.tag import Kkma, Komoran, Okt, Hannanum"
      ],
      "metadata": {
        "id": "ug86yVcMUXoP"
      },
      "execution_count": 3,
      "outputs": []
    },
    {
      "cell_type": "code",
      "source": [
        "hannanum = Hannanum() # 한나눔. KAIST Semantic Web Research Center 개발."
      ],
      "metadata": {
        "id": "lPILkLZ13Ayy"
      },
      "execution_count": 4,
      "outputs": []
    },
    {
      "cell_type": "code",
      "source": [
        "text = \"나는 오늘 밥을 먹고 점심에는 된장찌개를 먹었어. 그리고 저녁에는 사과를 먹었어.\"\n",
        "text2 = \"나는 새우닭안심볶음, 녹차식빵, 매콤어묵듬뿍김밥을 오늘 먹었어\"\n",
        "text3 = \"밥 먹고 된장찌개 먹고 삼겹살 먹고 그리고 탕후루 먹었고, 초콜릿 먹었어\"\n",
        "text4 = \"내가 오늘 먹은 것들 : 백종원오리삼각김밥, 삼각김밥, 김치, 사과 음료수, 나머지 하나는 기억이 안나\"\n",
        "text5 = \"아니 오늘은 너무 맛있는게 많았다. 진짜 아침에 배고파서 사과 먹고 그 다음에 원래는 다이어트 하려고 참았는데 너무 핫도그가 맛있어 보여서 그만 나는 유혹을 뿌리치지 못하고 먹어버렸다. 나는 반성해야해.. 그래서 저녁은 굶었다. ㅠㅠ\"\n",
        "text6 = \"갑자기 급 빵 먹고 싶어서 얼려둔 패스츄리 식빵 + 계란 후라이  2알 저녁 사진은 없지만.. 닭가슴살 샌드위치 먹었던 것 같다\""
      ],
      "metadata": {
        "id": "Y4YCH0JaUjvy"
      },
      "execution_count": 7,
      "outputs": []
    },
    {
      "cell_type": "code",
      "source": [
        "for n in [text, text2, text3, text4, text5, text6]:\n",
        "  print(\"hannanum \",hannanum.nouns(n))\n",
        "  print(\"-----------\")"
      ],
      "metadata": {
        "colab": {
          "base_uri": "https://localhost:8080/"
        },
        "id": "3Pjkkvj8qRSL",
        "outputId": "ec8d91c5-654a-463c-fe75-4ba033947e32"
      },
      "execution_count": 8,
      "outputs": [
        {
          "output_type": "stream",
          "name": "stdout",
          "text": [
            "hannanum  ['나', '오늘', '밥', '점심', '된장찌개', '저녁', '사과']\n",
            "-----------\n",
            "hannanum  ['나', '새우닭안심볶음,', '녹차식빵', '매콤어묵듬뿍김밥', '오늘']\n",
            "-----------\n",
            "hannanum  ['밥', '된장찌개', '삼겹살', '탕후루', '초콜릿']\n",
            "-----------\n",
            "hannanum  ['나', '오늘', '것들', '백종원오리삼각김밥,', '삼각김밥', '김치', '사과', '음료수', '나머지', '기억']\n",
            "-----------\n",
            "hannanum  ['오늘', '진짜', '아침', '사', '다음', '다이어트', '핫도그', '그', '나', '유혹', '나', '반성', '저녁', 'ㅠㅠ']\n",
            "-----------\n",
            "hannanum  ['급', '패스츄리', '식빵', '+', '계란', '후라', '2알', '저녁', '사진', '닭가슴살', '샌드위치', '것']\n",
            "-----------\n"
          ]
        }
      ]
    },
    {
      "cell_type": "markdown",
      "source": [
        "# [2] 전처리 : 필요없는 명사 제거\n",
        "- 한 글자 명사 단어 제외 (밥, 빵 등의 음식 제외)\n",
        "- 불용어 처리"
      ],
      "metadata": {
        "id": "ummx0SaziaDv"
      }
    },
    {
      "cell_type": "code",
      "source": [
        "import pandas as pd"
      ],
      "metadata": {
        "id": "3exvfpoyYSIH"
      },
      "execution_count": 9,
      "outputs": []
    },
    {
      "cell_type": "code",
      "source": [
        "with open('/content/drive/MyDrive/cupid/stopwords.txt', 'r', encoding='cp949') as f:\n",
        "  list_file = f.readlines()\n",
        "stopwords = list_file[0].split(\",\")"
      ],
      "metadata": {
        "id": "oFJgMUlnlyzJ"
      },
      "execution_count": 12,
      "outputs": []
    },
    {
      "cell_type": "code",
      "source": [
        "list_file # 불용어 사전에 다음과 같은 단어 추가\n",
        "# 나, 아침, 점심, 저녁, 반성, 유혹, 기억, 나머지"
      ],
      "metadata": {
        "colab": {
          "base_uri": "https://localhost:8080/"
        },
        "id": "lpbuIHlLm09c",
        "outputId": "a68a376b-ded6-48a5-f570-c56e855ed3d6"
      },
      "execution_count": 13,
      "outputs": [
        {
          "output_type": "execute_result",
          "data": {
            "text/plain": [
              "['반성,유혹,기억,나머지,안나,나,아침,점심,저녁,다이어트,휴,아이구,아이쿠,아이고,어,나,우리,저희,따라,의해,을,를,에,의,가,으로,로,에게,뿐이다,의거하여,근거하여,입각하여,기준으로,예하면,예를 들면,예를 들자면,저,소인,소생,저희,지말고,하지마,하지마라,다른,물론,또한,그리고,비길수 없다,해서는 안된다,뿐만 아니라,만이 아니다,만은 아니다,막론하고,관계없이,그치지 않다,그러나,그런데,하지만,든간에,논하지 않다,따지지 않다,설사,비록,더라도,아니면,만 못하다,하는 편이 낫다,불문하고,향하여,향해서,향하다,쪽으로,틈타,이용하여,타다,오르다,제외하고,이 외에,이 밖에,하여야,비로소,한다면 몰라도,외에도,이곳,여기,부터,기점으로,따라서,할 생각이다,하려고하다,이리하여,그리하여,그렇게 함으로써,하지만,일때,할때,앞에서,중에서,보는데서,으로써,로써,까지,해야한다,일것이다,반드시,할줄알다,할수있다,할수있어,임에 틀림없다,한다면,등,등등,제,겨우,단지,다만,할뿐,딩동,댕그,대해서,대하여,대하면,훨씬,얼마나,얼마만큼,얼마큼,남짓,여,얼마간,약간,다소,좀,조금,다수,몇,얼마,지만,하물며,또한,그러나,그렇지만,하지만,이외에도,대해 말하자면,뿐이다,다음에,반대로,반대로 말하자면,이와 반대로,바꾸어서 말하면,바꾸어서 한다면,만약,그렇지않으면,까악,툭,딱,삐걱거리다,보드득,비걱거리다,꽈당,응당,해야한다,에 가서,각,각각,여러분,각종,각자,제각기,하도록하다,와,과,그러므로,그래서,고로,한 까닭에,하기 때문에,거니와,이지만,대하여,관하여,관한,과연,실로,아니나다를가,생각한대로,진짜로,한적이있다,하곤하였다,하,하하,허허,아하,거바,와,오,왜,어째서,무엇때문에,어찌,하겠는가,무슨,어디,어느곳,더군다나,하물며,더욱이는,어느때,언제,야,이봐,어이,여보시오,흐흐,흥,휴,헉헉,헐떡헐떡,영차,여차,어기여차,끙끙,아야,앗,아야,콸콸,졸졸,좍좍,뚝뚝,주룩주룩,솨,우르르,그래도,또,그리고,바꾸어말하면,바꾸어말하자면,혹은,혹시,답다,및,그에 따르는,때가 되어,즉,지든지,설령,가령,하더라도,할지라도,일지라도,지든지,몇,거의,하마터면,인젠,이젠,된바에야,된이상,만큼,어찌됏든,그위에,게다가,점에서 보아,비추어 보아,고려하면,하게될것이다,일것이다,비교적,좀,보다더,비하면,시키다,하게하다,할만하다,의해서,연이서,이어서,잇따라,뒤따라,뒤이어,결국,의지하여,기대여,통하여,자마자,더욱더,불구하고,얼마든지,마음대로,주저하지 않고,곧,즉시,바로,당장,하자마자,밖에 안된다,하면된다,그래,그렇지,요컨대,다시 말하자면,바꿔 말하면,즉,구체적으로,말하자면,시작하여,시초에,이상,허,헉,허걱,바와같이,해도좋다,해도된다,게다가,더구나,하물며,와르르,팍,퍽,펄렁,동안,이래,하고있었다,이었다,에서,로부터,까지,예하면,했어요,해요,함께,같이,더불어,마저,마저도,양자,모두,습니다,가까스로,하려고하다,즈음하여,다른,다른 방면으로,해봐요,습니까,했어요,말할것도 없고,무릎쓰고,개의치않고,하는것만 못하다,하는것이 낫다,매,매번,들,모,어느것,어느,로써,갖고말하자면,어디,어느쪽,어느것,어느해,어느 년도,라 해도,언젠가,어떤것,어느것,저기,저쪽,저것,그때,그럼,그러면,요만한걸,그래,그때,저것만큼,그저,이르기까지,할 줄 안다,할 힘이 있다,너,너희,당신,어찌,설마,차라리,할지언정,할지라도,할망정,할지언정,구토하다,게우다,토하다,메쓰겁다,옆사람,퉤,쳇,의거하여,근거하여,의해,따라,힘입어,그,다음,버금,두번째로,기타,첫번째로,나머지는,그중에서,견지에서,형식으로 쓰여,입장에서,위해서,단지,의해되다,하도록시키다,뿐만아니라,반대로,전후,전자,앞의것,잠시,잠깐,하면서,그렇지만,다음에,그러한즉,그런즉,남들,아무거나,어찌하든지,같다,비슷하다,예컨대,이럴정도로,어떻게,만약,만일,위에서 서술한바와같이,인 듯하다,하지 않는다면,만약에,무엇,무슨,어느,어떤,아래윗,조차,한데,그럼에도 불구하고,여전히,심지어,까지도,조차도,하지 않도록,않기 위하여,때,시각,무렵,시간,동안,어때,어떠한,하여금,네,예,우선,누구,누가 알겠는가,아무도,줄은모른다,줄은 몰랏다,하는 김에,겸사겸사,하는바,그런 까닭에,한 이유는,그러니,그러니까,때문에,그,너희,그들,너희들,타인,것,것들,너,위하여,공동으로,동시에,하기 위하여,어찌하여,무엇때문에,붕붕,윙윙,나,우리,엉엉,휘익,윙윙,오호,아하,어쨋든,만 못하다,하기보다는,차라리,하는 편이 낫다,흐흐,놀라다,상대적으로 말하자면,마치,아니라면,쉿,그렇지 않으면,그렇지 않다면,안 그러면,아니었다면,하든지,아니면,이라면,좋아,알았어,하는것도,그만이다,어쩔수 없다,하나,일,일반적으로,일단,한켠으로는,오자마자,이렇게되면,이와같다면,전부,한마디,한항목,근거로,하기에,아울러,하지 않도록,않기 위해서,이르기까지,이 되다,로 인하여,까닭으로,이유만으로,이로 인하여,그래서,이 때문에,그러므로,그런 까닭에,알 수 있다,결론을 낼 수 있다,으로 인하여,있다,어떤것,관계가 있다,관련이 있다,연관되다,어떤것들,에 대해,이리하여,그리하여,여부,하기보다는,하느니,하면 할수록,운운,이러이러하다,하구나,하도다,다시말하면,다음으로,에 있다,에 달려 있다,우리,우리들,오히려,하기는한데,어떻게,어떻해,어찌됏어,어때,어째서,본대로,자,이,이쪽,여기,이것,이번,이렇게말하자면,이런,이러한,이와 같은,요만큼,요만한 것,얼마 안 되는 것,이만큼,이 정도의,이렇게 많은 것,이와 같다,이때,이렇구나,것과 같이,끼익,삐걱,따위,와 같은 사람들,부류의 사람들,왜냐하면,중의하나,오직,오로지,에 한하다,하기만 하면,도착하다,까지 미치다,도달하다,정도에 이르다,할 지경이다,결과에 이르다,관해서는,여러분,하고 있다,한 후,혼자,자기,자기집,자신,우에 종합한것과같이,총적으로 보면,총적으로 말하면,총적으로,대로 하다,으로서,참,그만이다,할 따름이다,쿵,탕탕,쾅쾅,둥둥,봐,봐라,아이야,아니,와아,응,아이,참나,년,월,일,령,영,일,이,삼,사,오,육,륙,칠,팔,구,이천육,이천칠,이천팔,이천구,하나,둘,셋,넷,다섯,여섯,일곱,여덟,아홉,령,영,에나,오다,많이,당하다,끼리,끄다,정말,주다,넘다,보고,재다,이랑,그냥,한번,그렇다,이고,맏다,모든,이렇다,라고,가장,굳다,대한,엄청,제일,내다,에는,이라,남다,어떻다,이제,안되다,담다,매우,이라는,써다,전혀,자체,두다,보다는,끼리,그렇게,아직,일이,가보다,위해,보단,제발,아아,말고,으로는,에게는,라서,이드,여서,인가,대로,스럽다,영화,너무,다시,단언컨대,처럼,보이다,한편,여러,이나,나다,진짜,원래,이건,지금,오늘,부로,계속,이라고,제대로,이란,잇다,엇어,는걸,인데,이렇게,돼다,한다는,저만,그런,가요,롭고,싶다,알다,모르다,라는,가지다,없이,이에요,이야,한테,에요,이다,하다,ㅋㅋ,ㅎㅎ,ㅠㅠ,않다,없다,되다,보다,가다,나오다,아니다,완전,역시,ㄹㅇ,ㅇㅅㅇ,ㄷㄷ,ㄷㄷㄷ,ㅇㅇ,ㅇㅈ,ㅈㄴ,ㅋㅋㅋ,ㅋㅋㅋㅋ,ㅎㄷㄷ,ㅎㅅㅎ,ㅎㅎㅎ,ㅎㅎㅎㅎ,ㅏㅇ,ㅜㅜ,ㅜㅜㅜㅜ,ㅜㅜㅠ,ㅜㅠ,ㅜㅠㅜ,ㅜㅠㅠ,ㅠㅜ,ㅠㅜㅜ,ㅠㅜㅠ,ㅠㅜㅠㅜ,ㅠㅠㅜ,ㅠㅠㅜㅠ,ㅠㅠㅠㅠ,ㅡㅡ,ㅜㅜㅜ,ㅠㅠㅠ,ㅠㅠㅠㅜ,가나다,ㅅㅂ,이네,예요,근데,올해,라니,이라니,으로만,밖에,되어다,부분,개인,관람,받다,모습,때문,대해,마다,대다,가지,하고,정도,특히,내내,있다,이다,요,으로,보고,되다,애,랑,오다,들다,그렇다,이렇다,대한,이건,라는,지만']"
            ]
          },
          "metadata": {},
          "execution_count": 13
        }
      ]
    },
    {
      "cell_type": "code",
      "source": [
        "def remove_one(text):\n",
        "  t = [x for x in text if len(x)>1 or x=='면' or x=='떡' or x=='밥' or x=='죽' or x=='빵' or x=='술' or x=='닭']\n",
        "  return t\n",
        "  # 보통 명사 중에서 한 글자의 단어는 '식사'와 관련 없는 경우 많아서 제외 시킴\n",
        "  # 면, 떡, 밥, 죽, 빵 등의 단어는 제외"
      ],
      "metadata": {
        "id": "S4OWkd9JiuL6"
      },
      "execution_count": 14,
      "outputs": []
    },
    {
      "cell_type": "code",
      "source": [
        "def remove_stopwords(text): # 불용어 처리\n",
        "  t = [x for x in text if x not in stopwords]\n",
        "  return t"
      ],
      "metadata": {
        "id": "6H7HfvIulo9f"
      },
      "execution_count": 15,
      "outputs": []
    },
    {
      "cell_type": "code",
      "source": [
        "def remove(text):\n",
        "  t = hannanum.nouns(text)\n",
        "  t = remove_one(t)\n",
        "  t = remove_stopwords(t)\n",
        "  return t"
      ],
      "metadata": {
        "id": "KbrkGfgdpCK3"
      },
      "execution_count": 16,
      "outputs": []
    },
    {
      "cell_type": "code",
      "source": [
        "for t in [text, text, text3, text4, text5, text6]:\n",
        "  t = remove(t)\n",
        "  print(t)"
      ],
      "metadata": {
        "colab": {
          "base_uri": "https://localhost:8080/"
        },
        "id": "PAmcmb2ciZnu",
        "outputId": "75d118a2-a246-4312-f124-54ed83719e2d"
      },
      "execution_count": 18,
      "outputs": [
        {
          "output_type": "stream",
          "name": "stdout",
          "text": [
            "['밥', '된장찌개', '사과']\n",
            "['밥', '된장찌개', '사과']\n",
            "['밥', '된장찌개', '삼겹살', '탕후루', '초콜릿']\n",
            "['백종원오리삼각김밥,', '삼각김밥', '김치', '사과', '음료수']\n",
            "['핫도그']\n",
            "['패스츄리', '식빵', '계란', '후라', '2알', '사진', '닭가슴살', '샌드위치']\n"
          ]
        }
      ]
    }
  ]
}